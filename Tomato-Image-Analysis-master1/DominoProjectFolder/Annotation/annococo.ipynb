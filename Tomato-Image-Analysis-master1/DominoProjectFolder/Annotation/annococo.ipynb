{
 "cells": [
  {
   "cell_type": "markdown",
   "metadata": {},
   "source": [
    "# Generating Train folder"
   ]
  },
  {
   "cell_type": "code",
   "execution_count": 1,
   "metadata": {},
   "outputs": [
    {
     "name": "stdout",
     "output_type": "stream",
     "text": [
      "Creating dataset: Train\n",
      "Generating dataset from: /mnt/Annotation/Images/Train/Be_128.json\n",
      "Generating dataset from: /mnt/Annotation/Images/Train/Be_192.json\n",
      "Generating dataset from: /mnt/Annotation/Images/Train/Be_156.json\n",
      "Generating dataset from: /mnt/Annotation/Images/Train/Be_119.json\n",
      "Generating dataset from: /mnt/Annotation/Images/Train/Be_018.json\n",
      "Generating dataset from: /mnt/Annotation/Images/Train/Be_203.json\n",
      "Generating dataset from: /mnt/Annotation/Images/Train/Be_035.json\n",
      "Generating dataset from: /mnt/Annotation/Images/Train/Spring2020_29.json\n",
      "Generating dataset from: /mnt/Annotation/Images/Train/Be_002.json\n",
      "Generating dataset from: /mnt/Annotation/Images/Train/Be_167.json\n",
      "Generating dataset from: /mnt/Annotation/Images/Train/Be_072.json\n",
      "Generating dataset from: /mnt/Annotation/Images/Train/Be_129.json\n",
      "Generating dataset from: /mnt/Annotation/Images/Train/Be_004.json\n",
      "Generating dataset from: /mnt/Annotation/Images/Train/Be_139.json\n",
      "Generating dataset from: /mnt/Annotation/Images/Train/Spring2020_28.json\n"
     ]
    }
   ],
   "source": [
    "%run labelme2coco.py /mnt/Annotation/Images/Train Train --labels labels.txt"
   ]
  },
  {
   "cell_type": "markdown",
   "metadata": {},
   "source": [
    "# Generating Val folder"
   ]
  },
  {
   "cell_type": "code",
   "execution_count": 2,
   "metadata": {},
   "outputs": [
    {
     "name": "stdout",
     "output_type": "stream",
     "text": [
      "Creating dataset: Val\n",
      "Generating dataset from: /mnt/Annotation/Images/Val/Be_122.json\n",
      "Generating dataset from: /mnt/Annotation/Images/Val/Be_075.json\n",
      "Generating dataset from: /mnt/Annotation/Images/Val/Be_055.json\n",
      "Generating dataset from: /mnt/Annotation/Images/Val/Be_099.json\n",
      "Generating dataset from: /mnt/Annotation/Images/Val/Be_185.json\n",
      "Generating dataset from: /mnt/Annotation/Images/Val/Be_155.json\n",
      "Generating dataset from: /mnt/Annotation/Images/Val/Be_009.json\n",
      "Generating dataset from: /mnt/Annotation/Images/Val/Be_180.json\n"
     ]
    }
   ],
   "source": [
    "%run labelme2coco.py /mnt/Annotation/Images/Val Val --labels labels.txt"
   ]
  },
  {
   "cell_type": "code",
   "execution_count": null,
   "metadata": {},
   "outputs": [],
   "source": []
  }
 ],
 "metadata": {
  "kernelspec": {
   "display_name": "Python 3",
   "language": "python",
   "name": "python3"
  },
  "language_info": {
   "codemirror_mode": {
    "name": "ipython",
    "version": 3
   },
   "file_extension": ".py",
   "mimetype": "text/x-python",
   "name": "python",
   "nbconvert_exporter": "python",
   "pygments_lexer": "ipython3",
   "version": "3.7.6"
  }
 },
 "nbformat": 4,
 "nbformat_minor": 2
}
